{
 "cells": [
  {
   "cell_type": "markdown",
   "metadata": {},
   "source": [
    "modified from the unbond-generics example on hackage\n",
    "\n",
    "On first run `./build.sh` will install dependencies specified in the cabal file into the `pwd` directory,\n",
    "but import will fail becuase the running kernel would be still oblivious to the newly installed pakcages. \n",
    "Once you restart the kernel, the `./build.sh` won't do anyting because everything is to date\n",
    "and the newly loaded kernel should be able to see the newly installed package modules. "
   ]
  },
  {
   "cell_type": "code",
   "execution_count": 5,
   "metadata": {},
   "outputs": [
    {
     "data": {
      "text/plain": [
       "ihaskell-pwd-0.1.0.0: build (exe)\n",
       "Preprocessing executable 'ihaskell-pwd' for ihaskell-pwd-0.1.0.0..\n",
       "Building executable 'ihaskell-pwd' for ihaskell-pwd-0.1.0.0..\n",
       "ihaskell-pwd-0.1.0.0: copy/register\n",
       "Installing executable ihaskell-pwd in /home/jovyan/pwd/.stack-work/install/x86_64-linux/lts-13.26/8.6.5/bin"
      ]
     },
     "metadata": {},
     "output_type": "display_data"
    }
   ],
   "source": [
    ":!./build.sh"
   ]
  },
  {
   "cell_type": "code",
   "execution_count": 6,
   "metadata": {},
   "outputs": [],
   "source": [
    "{-# LANGUAGE DeriveDataTypeable\n",
    "           , DeriveGeneric\n",
    "           , MultiParamTypeClasses #-}\n",
    "\n",
    "import Unbound.Generics.LocallyNameless\n",
    "import GHC.Generics (Generic)\n",
    "import Data.Typeable (Typeable)"
   ]
  },
  {
   "cell_type": "code",
   "execution_count": 7,
   "metadata": {},
   "outputs": [],
   "source": [
    "-- | Names for expressions\n",
    "type Nm = Name Exp\n",
    "\n",
    "-- | Expressions\n",
    "data Exp = Var Nm            -- ^ variables\n",
    "         | Lam (Bind Nm Exp) -- ^ lambdas bind a variable within a body expression\n",
    "         | App Exp Exp       -- ^ application\n",
    "          deriving (Show, Generic, Typeable)\n",
    "\n",
    "-- Automatically construct alpha equiv, free vars, and binding operations.\n",
    "instance Alpha Exp\n",
    "\n",
    "-- semi-automatically implement capture avoiding substitution\n",
    "instance Subst Exp Exp where\n",
    "  -- `isvar` identifies the variable case in your AST.\n",
    "  isvar (Var x) = Just (SubstName x)\n",
    "  isvar _       = Nothing"
   ]
  },
  {
   "cell_type": "code",
   "execution_count": 16,
   "metadata": {},
   "outputs": [
    {
     "data": {
      "text/html": [
       "<style>/* Styles used for the Hoogle display in the pager */\n",
       ".hoogle-doc {\n",
       "display: block;\n",
       "padding-bottom: 1.3em;\n",
       "padding-left: 0.4em;\n",
       "}\n",
       ".hoogle-code {\n",
       "display: block;\n",
       "font-family: monospace;\n",
       "white-space: pre;\n",
       "}\n",
       ".hoogle-text {\n",
       "display: block;\n",
       "}\n",
       ".hoogle-name {\n",
       "color: green;\n",
       "font-weight: bold;\n",
       "}\n",
       ".hoogle-head {\n",
       "font-weight: bold;\n",
       "}\n",
       ".hoogle-sub {\n",
       "display: block;\n",
       "margin-left: 0.4em;\n",
       "}\n",
       ".hoogle-package {\n",
       "font-weight: bold;\n",
       "font-style: italic;\n",
       "}\n",
       ".hoogle-module {\n",
       "font-weight: bold;\n",
       "}\n",
       ".hoogle-class {\n",
       "font-weight: bold;\n",
       "}\n",
       ".get-type {\n",
       "color: green;\n",
       "font-weight: bold;\n",
       "font-family: monospace;\n",
       "display: block;\n",
       "white-space: pre-wrap;\n",
       "}\n",
       ".show-type {\n",
       "color: green;\n",
       "font-weight: bold;\n",
       "font-family: monospace;\n",
       "margin-left: 1em;\n",
       "}\n",
       ".mono {\n",
       "font-family: monospace;\n",
       "display: block;\n",
       "}\n",
       ".err-msg {\n",
       "color: red;\n",
       "font-style: italic;\n",
       "font-family: monospace;\n",
       "white-space: pre;\n",
       "display: block;\n",
       "}\n",
       "#unshowable {\n",
       "color: red;\n",
       "font-weight: bold;\n",
       "}\n",
       ".err-msg.in.collapse {\n",
       "padding-top: 0.7em;\n",
       "}\n",
       ".highlight-code {\n",
       "white-space: pre;\n",
       "font-family: monospace;\n",
       "}\n",
       ".suggestion-warning { \n",
       "font-weight: bold;\n",
       "color: rgb(200, 130, 0);\n",
       "}\n",
       ".suggestion-error { \n",
       "font-weight: bold;\n",
       "color: red;\n",
       "}\n",
       ".suggestion-name {\n",
       "font-weight: bold;\n",
       "}\n",
       "</style><span class='get-type'>unsafeUnbind :: forall p t. (Alpha p, Alpha t) => Bind p t -> (p, t)</span>"
      ],
      "text/plain": [
       "unsafeUnbind :: forall p t. (Alpha p, Alpha t) => Bind p t -> (p, t)"
      ]
     },
     "metadata": {},
     "output_type": "display_data"
    }
   ],
   "source": [
    "import Unbound.Generics.LocallyNameless.Unsafe\n",
    ":type unsafeUnbind"
   ]
  },
  {
   "cell_type": "code",
   "execution_count": 31,
   "metadata": {},
   "outputs": [
    {
     "ename": "",
     "evalue": "",
     "output_type": "error",
     "traceback": [
      "<interactive>:1:1: error:\n    Could not find module ‘IHaskell.Display’\n    Use -v to see a list of the files searched for."
     ]
    }
   ],
   "source": [
    "import IHaskell.Display\n",
    "\n",
    "dpExp e = html[\"code\"++ppExp e,\"<code>\"]\n",
    "\n",
    "ppExp (Var x) = show x\n",
    "ppExp (Lam bnd) = \"λ\" ++ show x ++ \".\" ++ ppExp t\n",
    "  where (x, t) = unsafeUnbind bnd\n",
    "ppExp (App t s) = ppt t ++ \" \" ++ pps s\n",
    "  where\n",
    "  ppt t@(Lam{}) = paren (ppExp t)\n",
    "  ppt t         = ppExp t\n",
    "  pps s@(Var{}) = ppExp s\n",
    "  pps s         = paren (ppExp s)\n",
    "\n",
    "paren s = \"(\"++s++\")\""
   ]
  },
  {
   "cell_type": "code",
   "execution_count": 23,
   "metadata": {},
   "outputs": [],
   "source": [
    "-- call-by-value evaluation\n",
    "-- evaluation takes an expression and returns a value while using a source of fresh names\n",
    "eval :: Exp -> FreshM Exp\n",
    "eval (Var x)     = fail $ \"unbound variable \" ++ show x\n",
    "eval e@(Lam {})  = return e\n",
    "eval (App e1 e2) = do\n",
    "  v1 <- eval e1\n",
    "  v2 <- eval e2\n",
    "  case v1 of\n",
    "   (Lam bnd) -> do\n",
    "     -- open the lambda by picking a fresh name for the bound variable x in body\n",
    "     (x, body) <- unbind bnd\n",
    "     eval (subst x v2 body)\n",
    "   _ -> fail \"application of non-lambda\""
   ]
  },
  {
   "cell_type": "code",
   "execution_count": 24,
   "metadata": {},
   "outputs": [],
   "source": [
    "x = s2n \"x\"\n",
    "y = s2n \"y\"\n",
    "e = Lam $ bind x (Lam $ bind y (App (Var y) (Var x)))"
   ]
  },
  {
   "cell_type": "code",
   "execution_count": 25,
   "metadata": {},
   "outputs": [
    {
     "data": {
      "text/plain": [
       "Lam (<x> Lam (<y> App (Var 0@0) (Var 1@0)))"
      ]
     },
     "metadata": {},
     "output_type": "display_data"
    },
    {
     "data": {
      "text/plain": [
       "\"\\955x.\\955y.y x\""
      ]
     },
     "metadata": {},
     "output_type": "display_data"
    }
   ],
   "source": [
    "e\n",
    "ppExp e"
   ]
  },
  {
   "cell_type": "code",
   "execution_count": 12,
   "metadata": {},
   "outputs": [
    {
     "data": {
      "text/plain": [
       "Lam (<y> App (Var 0@0) (Lam (<x> Lam (<y> App (Var 0@0) (Var 1@0)))))"
      ]
     },
     "metadata": {},
     "output_type": "display_data"
    }
   ],
   "source": [
    "runFreshM $ eval (App (App e e) e)"
   ]
  },
  {
   "cell_type": "code",
   "execution_count": null,
   "metadata": {},
   "outputs": [],
   "source": []
  }
 ],
 "metadata": {
  "kernelspec": {
   "display_name": "Haskell",
   "language": "haskell",
   "name": "haskell"
  },
  "language_info": {
   "codemirror_mode": "ihaskell",
   "file_extension": ".hs",
   "name": "haskell",
   "pygments_lexer": "Haskell",
   "version": "8.6.5"
  }
 },
 "nbformat": 4,
 "nbformat_minor": 2
}
