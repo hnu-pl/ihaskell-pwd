{
 "cells": [
  {
   "cell_type": "markdown",
   "metadata": {},
   "source": [
    "modified from the unbond-generic example on hackage\n",
    "\n",
    "if the import does not work you should run `stack build` from `pwd` directory."
   ]
  },
  {
   "cell_type": "code",
   "execution_count": 1,
   "metadata": {},
   "outputs": [],
   "source": [
    "{-# LANGUAGE DeriveDataTypeable\n",
    "           , DeriveGeneric\n",
    "           , MultiParamTypeClasses #-}\n",
    "\n",
    "import Unbound.Generics.LocallyNameless\n",
    "import GHC.Generics (Generic)\n",
    "import Data.Typeable (Typeable)"
   ]
  },
  {
   "cell_type": "code",
   "execution_count": 2,
   "metadata": {},
   "outputs": [],
   "source": [
    "-- | Names for expressions\n",
    "type Nm = Name Exp\n",
    "\n",
    "-- | Expressions\n",
    "data Exp = Var Nm            -- ^ variables\n",
    "         | Lam (Bind Nm Exp) -- ^ lambdas bind a variable within a body expression\n",
    "         | App Exp Exp       -- ^ application\n",
    "          deriving (Show, Generic, Typeable)\n",
    "\n",
    "-- Automatically construct alpha equiv, free vars, and binding operations.\n",
    "instance Alpha Exp\n",
    "\n",
    "-- semi-automatically implement capture avoiding substitution\n",
    "instance Subst Exp Exp where\n",
    "  -- `isvar` identifies the variable case in your AST.\n",
    "  isvar (Var x) = Just (SubstName x)\n",
    "  isvar _       = Nothing"
   ]
  },
  {
   "cell_type": "code",
   "execution_count": 3,
   "metadata": {},
   "outputs": [],
   "source": [
    "-- call-by-value evaluation\n",
    "-- evaluation takes an expression and returns a value while using a source of fresh names\n",
    "eval :: Exp -> FreshM Exp\n",
    "eval (Var x)     = fail $ \"unbound variable \" ++ show x\n",
    "eval e@(Lam {})  = return e\n",
    "eval (App e1 e2) = do\n",
    "  v1 <- eval e1\n",
    "  v2 <- eval e2\n",
    "  case v1 of\n",
    "   (Lam bnd) -> do\n",
    "     -- open the lambda by picking a fresh name for the bound variable x in body\n",
    "     (x, body) <- unbind bnd\n",
    "     eval (subst x v2 body)\n",
    "   _ -> fail \"application of non-lambda\""
   ]
  },
  {
   "cell_type": "code",
   "execution_count": 4,
   "metadata": {},
   "outputs": [],
   "source": [
    "x = s2n \"x\"\n",
    "y = s2n \"y\"\n",
    "e = Lam $ bind x (Lam $ bind y (App (Var y) (Var x)))"
   ]
  },
  {
   "cell_type": "code",
   "execution_count": 5,
   "metadata": {},
   "outputs": [
    {
     "data": {
      "text/plain": [
       "Lam (<x> Lam (<y> App (Var 0@0) (Var 1@0)))"
      ]
     },
     "metadata": {},
     "output_type": "display_data"
    }
   ],
   "source": [
    "e"
   ]
  },
  {
   "cell_type": "code",
   "execution_count": 6,
   "metadata": {},
   "outputs": [
    {
     "data": {
      "text/plain": [
       "Lam (<y> App (Var 0@0) (Lam (<x> Lam (<y> App (Var 0@0) (Var 1@0)))))"
      ]
     },
     "metadata": {},
     "output_type": "display_data"
    }
   ],
   "source": [
    "runFreshM $ eval (App (App e e) e)"
   ]
  }
 ],
 "metadata": {
  "kernelspec": {
   "display_name": "Haskell",
   "language": "haskell",
   "name": "haskell"
  },
  "language_info": {
   "codemirror_mode": "ihaskell",
   "file_extension": ".hs",
   "name": "haskell",
   "pygments_lexer": "Haskell",
   "version": "8.6.5"
  }
 },
 "nbformat": 4,
 "nbformat_minor": 2
}
