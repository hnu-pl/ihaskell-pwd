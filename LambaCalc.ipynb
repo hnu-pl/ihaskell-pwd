{
 "cells": [
  {
   "cell_type": "markdown",
   "metadata": {},
   "source": [
    "modified from the unbond-generics example on hackage\n",
    "\n",
    "On first run `stack build` will install dependencies specified in the cabl file into the `pwd` directory,\n",
    "but import will fail.\n",
    "Then, restart the kernel and run this notebook again.\n",
    "On the second run after restart, the `stack build` won't do anyting because the build is up to date\n",
    "and the newly loaded kernel should be able to see the newly installed modules. "
   ]
  },
  {
   "cell_type": "code",
   "execution_count": 3,
   "metadata": {},
   "outputs": [
    {
     "data": {
      "text/plain": []
     },
     "metadata": {},
     "output_type": "display_data"
    }
   ],
   "source": [
    ":!stack build"
   ]
  },
  {
   "cell_type": "code",
   "execution_count": 6,
   "metadata": {},
   "outputs": [
    {
     "data": {
      "text/plain": []
     },
     "metadata": {},
     "output_type": "display_data"
    }
   ],
   "source": [
    ":!stack install unbound-generics"
   ]
  },
  {
   "cell_type": "code",
   "execution_count": 1,
   "metadata": {},
   "outputs": [
    {
     "data": {
      "text/plain": [
       "/opt/stack/programs/x86_64-linux/ghc-8.6.5/lib/ghc-8.6.5/package.conf.d\n",
       "    Cabal-2.4.0.1\n",
       "    array-0.5.3.0\n",
       "    base-4.12.0.0\n",
       "    binary-0.8.6.0\n",
       "    bytestring-0.10.8.2\n",
       "    containers-0.6.0.1\n",
       "    deepseq-1.4.4.0\n",
       "    directory-1.3.3.0\n",
       "    filepath-1.4.2.1\n",
       "    (ghc-8.6.5)\n",
       "    ghc-boot-8.6.5\n",
       "    ghc-boot-th-8.6.5\n",
       "    ghc-compact-0.1.0.0\n",
       "    ghc-heap-8.6.5\n",
       "    ghc-prim-0.5.3\n",
       "    ghci-8.6.5\n",
       "    haskeline-0.7.4.3\n",
       "    hpc-0.6.0.3\n",
       "    integer-gmp-1.0.2.0\n",
       "    libiserv-8.6.3\n",
       "    mtl-2.2.2\n",
       "    parsec-3.1.13.0\n",
       "    pretty-1.1.3.6\n",
       "    process-1.6.5.0\n",
       "    rts-1.0\n",
       "    stm-2.5.0.0\n",
       "    template-haskell-2.14.0.0\n",
       "    terminfo-0.4.1.2\n",
       "    text-1.2.3.1\n",
       "    time-1.8.0.2\n",
       "    transformers-0.5.6.2\n",
       "    unix-2.7.2.2\n",
       "    xhtml-3000.2.2.1\n",
       "\n",
       "/opt/stack/snapshots/x86_64-linux/lts-13.26/8.6.5/pkgdb\n",
       "    Cabal-2.4.1.0\n",
       "    JuicyPixels-3.3.3\n",
       "    StateVar-1.1.1.1\n",
       "    aeson-1.4.2.0\n",
       "    aeson-pretty-0.8.7\n",
       "    ansi-terminal-0.8.2\n",
       "    ansi-wl-pprint-0.6.8.2\n",
       "    asn1-encoding-0.9.5\n",
       "    asn1-parse-0.9.4\n",
       "    asn1-types-0.3.2\n",
       "    async-2.2.2\n",
       "    attoparsec-0.13.2.2\n",
       "    base-compat-0.10.5\n",
       "    base-orphans-0.8.1\n",
       "    base64-bytestring-1.0.0.2\n",
       "    basement-0.0.10\n",
       "    bifunctors-5.5.4\n",
       "    blaze-builder-0.4.1.0\n",
       "    blaze-html-0.9.1.1\n",
       "    blaze-markup-0.8.2.2\n",
       "    byteable-0.1.1\n",
       "    cabal-doctest-1.0.6\n",
       "    case-insensitive-1.2.0.11\n",
       "    cereal-0.5.8.1\n",
       "    cereal-text-0.1.0.2\n",
       "    clock-0.7.2\n",
       "    cmdargs-0.10.20\n",
       "    colour-2.3.5\n",
       "    comonad-5.0.5\n",
       "    conduit-1.3.1.1\n",
       "    connection-0.2.8\n",
       "    constraints-0.10.1\n",
       "    contravariant-1.5.2\n",
       "    cookie-0.4.4\n",
       "    cpphs-1.20.8\n",
       "    cryptohash-md5-0.11.100.1\n",
       "    cryptohash-sha1-0.11.100.1\n",
       "    cryptonite-0.25\n",
       "    data-accessor-0.2.2.8\n",
       "    data-accessor-transformers-0.2.1.7\n",
       "    data-default-0.7.1.1\n",
       "    data-default-class-0.1.2.0\n",
       "    data-default-instances-containers-0.0.1\n",
       "    data-default-instances-dlist-0.0.1\n",
       "    data-default-instances-old-locale-0.0.1\n",
       "    distributive-0.6\n",
       "    dlist-0.8.0.6\n",
       "    enclosed-exceptions-1.0.3\n",
       "    entropy-0.4.1.4\n",
       "    exceptions-0.10.2\n",
       "    extra-1.6.17\n",
       "    ghc-paths-0.1.0.9\n",
       "    gnuplot-0.5.6\n",
       "    hashable-1.2.7.0\n",
       "    haskeline-0.7.5.0\n",
       "    haskell-src-exts-1.20.3\n",
       "    haskell-src-exts-util-0.2.5\n",
       "    haskell-src-meta-0.8.2\n",
       "    here-1.2.13\n",
       "    hlint-2.1.11\n",
       "    hourglass-0.2.12\n",
       "    hscolour-1.24.4\n",
       "    http-client-0.5.14\n",
       "    http-client-tls-0.3.5.3\n",
       "    http-types-0.12.3\n",
       "    integer-logarithms-1.0.3\n",
       "    libyaml-0.1.1.0\n",
       "    lifted-async-0.10.0.4\n",
       "    lifted-base-0.2.3.12\n",
       "    memory-0.14.18\n",
       "    mime-types-0.1.0.9\n",
       "    monad-control-1.0.2.3\n",
       "    mono-traversable-1.0.11.0\n",
       "    network-2.8.0.1\n",
       "    network-info-0.2.0.10\n",
       "    network-uri-2.6.1.0\n",
       "    old-locale-1.0.0.7\n",
       "    old-time-1.1.0.3\n",
       "    pem-0.2.4\n",
       "    polyparse-1.12.1\n",
       "    primitive-0.6.4.0\n",
       "    profunctors-5.3\n",
       "    random-1.1\n",
       "    refact-0.3.0.2\n",
       "    resourcet-1.2.2\n",
       "    safe-0.3.17\n",
       "    scientific-0.3.6.2\n",
       "    semigroups-0.18.5\n",
       "    shelly-1.8.0\n",
       "    socks-0.5.6\n",
       "    split-0.2.3.3\n",
       "    streaming-commons-0.2.1.1\n",
       "    strict-0.3.2\n",
       "    syb-0.7.1\n",
       "    system-argv0-0.1.1\n",
       "    system-fileio-0.3.16.4\n",
       "    system-filepath-0.4.14\n",
       "    tagged-0.8.6\n",
       "    temporary-1.3\n",
       "    th-abstraction-0.2.11.0\n",
       "    th-expand-syns-0.4.4.0\n",
       "    th-lift-0.7.11\n",
       "    th-lift-instances-0.1.12\n",
       "    th-orphans-0.13.7\n",
       "    th-reify-many-0.1.9\n",
       "    time-locale-compat-0.1.1.5\n",
       "    tls-1.4.1\n",
       "    transformers-base-0.4.5.2\n",
       "    transformers-compat-0.6.5\n",
       "    unbound-generics-0.4.0\n",
       "    uniplate-1.6.12\n",
       "    unix-compat-0.5.1\n",
       "    unliftio-core-0.1.2.0\n",
       "    unordered-containers-0.2.10.0\n",
       "    utf8-string-1.0.1.1\n",
       "    utility-ht-0.0.14\n",
       "    uuid-1.3.13\n",
       "    uuid-types-1.0.3\n",
       "    vector-0.12.0.3\n",
       "    vector-algorithms-0.8.0.1\n",
       "    x509-1.7.5\n",
       "    x509-store-1.6.7\n",
       "    x509-system-1.6.6\n",
       "    x509-validation-1.6.11\n",
       "    yaml-0.11.0.0\n",
       "    zeromq4-haskell-0.7.0\n",
       "    zlib-0.6.2\n",
       "\n",
       "/home/jovyan/pwd/.stack-work/install/x86_64-linux/lts-13.26/8.6.5/pkgdb\n",
       "    (no packages)"
      ]
     },
     "metadata": {},
     "output_type": "display_data"
    }
   ],
   "source": [
    ":!stack exec ghc-pkg -- list"
   ]
  },
  {
   "cell_type": "code",
   "execution_count": 2,
   "metadata": {},
   "outputs": [],
   "source": [
    "{-# LANGUAGE DeriveDataTypeable\n",
    "           , DeriveGeneric\n",
    "           , MultiParamTypeClasses #-}\n",
    "\n",
    "import Unbound.Generics.LocallyNameless\n",
    "import GHC.Generics (Generic)\n",
    "import Data.Typeable (Typeable)"
   ]
  },
  {
   "cell_type": "code",
   "execution_count": 3,
   "metadata": {},
   "outputs": [],
   "source": [
    "-- | Names for expressions\n",
    "type Nm = Name Exp\n",
    "\n",
    "-- | Expressions\n",
    "data Exp = Var Nm            -- ^ variables\n",
    "         | Lam (Bind Nm Exp) -- ^ lambdas bind a variable within a body expression\n",
    "         | App Exp Exp       -- ^ application\n",
    "          deriving (Show, Generic, Typeable)\n",
    "\n",
    "-- Automatically construct alpha equiv, free vars, and binding operations.\n",
    "instance Alpha Exp\n",
    "\n",
    "-- semi-automatically implement capture avoiding substitution\n",
    "instance Subst Exp Exp where\n",
    "  -- `isvar` identifies the variable case in your AST.\n",
    "  isvar (Var x) = Just (SubstName x)\n",
    "  isvar _       = Nothing"
   ]
  },
  {
   "cell_type": "code",
   "execution_count": 4,
   "metadata": {},
   "outputs": [],
   "source": [
    "-- call-by-value evaluation\n",
    "-- evaluation takes an expression and returns a value while using a source of fresh names\n",
    "eval :: Exp -> FreshM Exp\n",
    "eval (Var x)     = fail $ \"unbound variable \" ++ show x\n",
    "eval e@(Lam {})  = return e\n",
    "eval (App e1 e2) = do\n",
    "  v1 <- eval e1\n",
    "  v2 <- eval e2\n",
    "  case v1 of\n",
    "   (Lam bnd) -> do\n",
    "     -- open the lambda by picking a fresh name for the bound variable x in body\n",
    "     (x, body) <- unbind bnd\n",
    "     eval (subst x v2 body)\n",
    "   _ -> fail \"application of non-lambda\""
   ]
  },
  {
   "cell_type": "code",
   "execution_count": 5,
   "metadata": {},
   "outputs": [],
   "source": [
    "x = s2n \"x\"\n",
    "y = s2n \"y\"\n",
    "e = Lam $ bind x (Lam $ bind y (App (Var y) (Var x)))"
   ]
  },
  {
   "cell_type": "code",
   "execution_count": 6,
   "metadata": {},
   "outputs": [
    {
     "data": {
      "text/plain": [
       "Lam (<x> Lam (<y> App (Var 0@0) (Var 1@0)))"
      ]
     },
     "metadata": {},
     "output_type": "display_data"
    }
   ],
   "source": [
    "e"
   ]
  },
  {
   "cell_type": "code",
   "execution_count": 7,
   "metadata": {},
   "outputs": [
    {
     "data": {
      "text/plain": [
       "Lam (<y> App (Var 0@0) (Lam (<x> Lam (<y> App (Var 0@0) (Var 1@0)))))"
      ]
     },
     "metadata": {},
     "output_type": "display_data"
    }
   ],
   "source": [
    "runFreshM $ eval (App (App e e) e)"
   ]
  }
 ],
 "metadata": {
  "kernelspec": {
   "display_name": "Haskell",
   "language": "haskell",
   "name": "haskell"
  },
  "language_info": {
   "codemirror_mode": "ihaskell",
   "file_extension": ".hs",
   "name": "haskell",
   "pygments_lexer": "Haskell",
   "version": "8.6.5"
  }
 },
 "nbformat": 4,
 "nbformat_minor": 2
}
